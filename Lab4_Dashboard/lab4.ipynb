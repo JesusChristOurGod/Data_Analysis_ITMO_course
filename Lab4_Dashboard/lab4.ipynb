{
 "cells": [
  {
   "cell_type": "code",
   "execution_count": 1,
   "id": "70a0123e",
   "metadata": {},
   "outputs": [],
   "source": [
    "import pandas as pd\n",
    "import seaborn as sns\n",
    "import scipy.stats as sp\n",
    "import matplotlib.pyplot as plt\n",
    "\n",
    "sns.set_style(\"whitegrid\")"
   ]
  },
  {
   "cell_type": "code",
   "execution_count": 2,
   "id": "36522454",
   "metadata": {},
   "outputs": [],
   "source": [
    "df = pd.read_csv('Копия_Данные_для_задания_4_Данные_2.csv')"
   ]
  },
  {
   "cell_type": "markdown",
   "id": "b8488b3e",
   "metadata": {},
   "source": [
    "Последние четыре столбика являются фиктивными переменными, которые были придуманы и выведены из предыдуших изначальных переменных датасета *(преобразовали и вывели новые столбики сразу в Excel)*"
   ]
  },
  {
   "cell_type": "code",
   "execution_count": 3,
   "id": "b63640ff",
   "metadata": {},
   "outputs": [
    {
     "data": {
      "text/html": [
       "<div>\n",
       "<style scoped>\n",
       "    .dataframe tbody tr th:only-of-type {\n",
       "        vertical-align: middle;\n",
       "    }\n",
       "\n",
       "    .dataframe tbody tr th {\n",
       "        vertical-align: top;\n",
       "    }\n",
       "\n",
       "    .dataframe thead th {\n",
       "        text-align: right;\n",
       "    }\n",
       "</style>\n",
       "<table border=\"1\" class=\"dataframe\">\n",
       "  <thead>\n",
       "    <tr style=\"text-align: right;\">\n",
       "      <th></th>\n",
       "      <th>Name</th>\n",
       "      <th>Quantity in 1 unit</th>\n",
       "      <th>Type</th>\n",
       "      <th>Seller</th>\n",
       "      <th>Price for 1 uint, rub</th>\n",
       "      <th>Sales, tons</th>\n",
       "      <th>Sales, th. rub</th>\n",
       "      <th>Weighted distribution</th>\n",
       "      <th>Price for 1 bit</th>\n",
       "      <th>Market Share</th>\n",
       "      <th>Sales in packages</th>\n",
       "      <th>Sales in bits</th>\n",
       "    </tr>\n",
       "  </thead>\n",
       "  <tbody>\n",
       "    <tr>\n",
       "      <th>0</th>\n",
       "      <td>GREENFIELD(OR.TR.) GOLDEN CEYLON</td>\n",
       "      <td>100</td>\n",
       "      <td>ч</td>\n",
       "      <td>п</td>\n",
       "      <td>221</td>\n",
       "      <td>1749</td>\n",
       "      <td>1916233</td>\n",
       "      <td>75</td>\n",
       "      <td>2,21</td>\n",
       "      <td>4,067729221</td>\n",
       "      <td>8670,737557</td>\n",
       "      <td>867073,7557</td>\n",
       "    </tr>\n",
       "    <tr>\n",
       "      <th>1</th>\n",
       "      <td>PRINCESSA NOORI VYSOKOGORNIY</td>\n",
       "      <td>100</td>\n",
       "      <td>ч</td>\n",
       "      <td>п</td>\n",
       "      <td>138</td>\n",
       "      <td>2089</td>\n",
       "      <td>1424092</td>\n",
       "      <td>64</td>\n",
       "      <td>1,38</td>\n",
       "      <td>3,023025197</td>\n",
       "      <td>10319,50725</td>\n",
       "      <td>1031950,725</td>\n",
       "    </tr>\n",
       "    <tr>\n",
       "      <th>2</th>\n",
       "      <td>PRINCESSA NOORI VYSOKOGORNIY</td>\n",
       "      <td>25</td>\n",
       "      <td>ч</td>\n",
       "      <td>п</td>\n",
       "      <td>42</td>\n",
       "      <td>1681</td>\n",
       "      <td>1416400</td>\n",
       "      <td>93</td>\n",
       "      <td>1,68</td>\n",
       "      <td>3,006696821</td>\n",
       "      <td>33723,80952</td>\n",
       "      <td>843095,2381</td>\n",
       "    </tr>\n",
       "    <tr>\n",
       "      <th>3</th>\n",
       "      <td>LIPTON(UNILEVER) YELLOW LABEL</td>\n",
       "      <td>100</td>\n",
       "      <td>ч</td>\n",
       "      <td>п</td>\n",
       "      <td>160</td>\n",
       "      <td>1747</td>\n",
       "      <td>1388139</td>\n",
       "      <td>72</td>\n",
       "      <td>1,6</td>\n",
       "      <td>2,94670511</td>\n",
       "      <td>8675,86875</td>\n",
       "      <td>867586,875</td>\n",
       "    </tr>\n",
       "    <tr>\n",
       "      <th>4</th>\n",
       "      <td>GREENFIELD(OR.TR.) GOLDEN CEYLON</td>\n",
       "      <td>25</td>\n",
       "      <td>ч</td>\n",
       "      <td>п</td>\n",
       "      <td>80</td>\n",
       "      <td>756</td>\n",
       "      <td>1200753</td>\n",
       "      <td>88</td>\n",
       "      <td>3,2</td>\n",
       "      <td>2,548927017</td>\n",
       "      <td>15009,4125</td>\n",
       "      <td>375235,3125</td>\n",
       "    </tr>\n",
       "    <tr>\n",
       "      <th>...</th>\n",
       "      <td>...</td>\n",
       "      <td>...</td>\n",
       "      <td>...</td>\n",
       "      <td>...</td>\n",
       "      <td>...</td>\n",
       "      <td>...</td>\n",
       "      <td>...</td>\n",
       "      <td>...</td>\n",
       "      <td>...</td>\n",
       "      <td>...</td>\n",
       "      <td>...</td>\n",
       "      <td>...</td>\n",
       "    </tr>\n",
       "    <tr>\n",
       "      <th>294</th>\n",
       "      <td>MK SUPREME CTC ASSAM</td>\n",
       "      <td>250</td>\n",
       "      <td>ч</td>\n",
       "      <td>в</td>\n",
       "      <td>99</td>\n",
       "      <td>42</td>\n",
       "      <td>16480</td>\n",
       "      <td>1</td>\n",
       "      <td>0,396</td>\n",
       "      <td>0,03498331234</td>\n",
       "      <td>166,4646465</td>\n",
       "      <td>41616,16162</td>\n",
       "    </tr>\n",
       "    <tr>\n",
       "      <th>295</th>\n",
       "      <td>BATTLER VELIKIY SLON</td>\n",
       "      <td>250</td>\n",
       "      <td>ч</td>\n",
       "      <td>в</td>\n",
       "      <td>226</td>\n",
       "      <td>13</td>\n",
       "      <td>11966</td>\n",
       "      <td>2</td>\n",
       "      <td>0,904</td>\n",
       "      <td>0,02540111138</td>\n",
       "      <td>52,94690265</td>\n",
       "      <td>13236,72566</td>\n",
       "    </tr>\n",
       "    <tr>\n",
       "      <th>296</th>\n",
       "      <td>HYLEYS ANGL.KLASS.</td>\n",
       "      <td>100</td>\n",
       "      <td>ч</td>\n",
       "      <td>п</td>\n",
       "      <td>192</td>\n",
       "      <td>6</td>\n",
       "      <td>7132</td>\n",
       "      <td>3</td>\n",
       "      <td>1,92</td>\n",
       "      <td>0,01513962279</td>\n",
       "      <td>37,14583333</td>\n",
       "      <td>3714,583333</td>\n",
       "    </tr>\n",
       "    <tr>\n",
       "      <th>297</th>\n",
       "      <td>BATTLER DVA VELIKANA</td>\n",
       "      <td>100</td>\n",
       "      <td>ч</td>\n",
       "      <td>в</td>\n",
       "      <td>98</td>\n",
       "      <td>21</td>\n",
       "      <td>20511</td>\n",
       "      <td>3</td>\n",
       "      <td>0,98</td>\n",
       "      <td>0,04354021356</td>\n",
       "      <td>209,2959184</td>\n",
       "      <td>20929,59184</td>\n",
       "    </tr>\n",
       "    <tr>\n",
       "      <th>298</th>\n",
       "      <td>BROOKE BOND BERGAMOT</td>\n",
       "      <td>25</td>\n",
       "      <td>ч/а</td>\n",
       "      <td>п</td>\n",
       "      <td>45</td>\n",
       "      <td>12</td>\n",
       "      <td>14579</td>\n",
       "      <td>9</td>\n",
       "      <td>1,8</td>\n",
       "      <td>0,03094791934</td>\n",
       "      <td>323,9777778</td>\n",
       "      <td>8099,444444</td>\n",
       "    </tr>\n",
       "  </tbody>\n",
       "</table>\n",
       "<p>299 rows × 12 columns</p>\n",
       "</div>"
      ],
      "text/plain": [
       "                                 Name  Quantity in 1 unit Type Seller  \\\n",
       "0    GREENFIELD(OR.TR.) GOLDEN CEYLON                 100    ч      п   \n",
       "1        PRINCESSA NOORI VYSOKOGORNIY                 100    ч      п   \n",
       "2        PRINCESSA NOORI VYSOKOGORNIY                  25    ч      п   \n",
       "3       LIPTON(UNILEVER) YELLOW LABEL                 100    ч      п   \n",
       "4    GREENFIELD(OR.TR.) GOLDEN CEYLON                  25    ч      п   \n",
       "..                                ...                 ...  ...    ...   \n",
       "294              MK SUPREME CTC ASSAM                 250    ч      в   \n",
       "295              BATTLER VELIKIY SLON                 250    ч      в   \n",
       "296                HYLEYS ANGL.KLASS.                 100    ч      п   \n",
       "297              BATTLER DVA VELIKANA                 100    ч      в   \n",
       "298              BROOKE BOND BERGAMOT                  25  ч/а      п   \n",
       "\n",
       "     Price for 1 uint, rub  Sales, tons  Sales, th. rub  \\\n",
       "0                      221         1749         1916233   \n",
       "1                      138         2089         1424092   \n",
       "2                       42         1681         1416400   \n",
       "3                      160         1747         1388139   \n",
       "4                       80          756         1200753   \n",
       "..                     ...          ...             ...   \n",
       "294                     99           42           16480   \n",
       "295                    226           13           11966   \n",
       "296                    192            6            7132   \n",
       "297                     98           21           20511   \n",
       "298                     45           12           14579   \n",
       "\n",
       "     Weighted distribution Price for 1 bit   Market Share Sales in packages  \\\n",
       "0                       75            2,21    4,067729221       8670,737557   \n",
       "1                       64            1,38    3,023025197       10319,50725   \n",
       "2                       93            1,68    3,006696821       33723,80952   \n",
       "3                       72             1,6     2,94670511        8675,86875   \n",
       "4                       88             3,2    2,548927017        15009,4125   \n",
       "..                     ...             ...            ...               ...   \n",
       "294                      1           0,396  0,03498331234       166,4646465   \n",
       "295                      2           0,904  0,02540111138       52,94690265   \n",
       "296                      3            1,92  0,01513962279       37,14583333   \n",
       "297                      3            0,98  0,04354021356       209,2959184   \n",
       "298                      9             1,8  0,03094791934       323,9777778   \n",
       "\n",
       "    Sales in bits  \n",
       "0     867073,7557  \n",
       "1     1031950,725  \n",
       "2     843095,2381  \n",
       "3      867586,875  \n",
       "4     375235,3125  \n",
       "..            ...  \n",
       "294   41616,16162  \n",
       "295   13236,72566  \n",
       "296   3714,583333  \n",
       "297   20929,59184  \n",
       "298   8099,444444  \n",
       "\n",
       "[299 rows x 12 columns]"
      ]
     },
     "execution_count": 3,
     "metadata": {},
     "output_type": "execute_result"
    }
   ],
   "source": [
    "df"
   ]
  },
  {
   "cell_type": "code",
   "execution_count": 4,
   "id": "7c372ae6",
   "metadata": {},
   "outputs": [
    {
     "name": "stdout",
     "output_type": "stream",
     "text": [
      "<class 'pandas.core.frame.DataFrame'>\n",
      "RangeIndex: 299 entries, 0 to 298\n",
      "Data columns (total 12 columns):\n",
      " #   Column                 Non-Null Count  Dtype \n",
      "---  ------                 --------------  ----- \n",
      " 0   Name                   299 non-null    object\n",
      " 1   Quantity in 1 unit     299 non-null    int64 \n",
      " 2   Type                   299 non-null    object\n",
      " 3   Seller                 299 non-null    object\n",
      " 4   Price for 1 uint, rub  299 non-null    int64 \n",
      " 5   Sales, tons            299 non-null    int64 \n",
      " 6   Sales, th. rub         299 non-null    int64 \n",
      " 7   Weighted distribution  299 non-null    int64 \n",
      " 8   Price for 1 bit        299 non-null    object\n",
      " 9   Market Share           299 non-null    object\n",
      " 10  Sales in packages      299 non-null    object\n",
      " 11  Sales in bits          299 non-null    object\n",
      "dtypes: int64(5), object(7)\n",
      "memory usage: 28.2+ KB\n"
     ]
    }
   ],
   "source": [
    "df.info()"
   ]
  },
  {
   "cell_type": "markdown",
   "id": "9f4ce3fa",
   "metadata": {},
   "source": [
    "Исходя из наблюдения в числовых различиях между Пятерочкой и Вкусвилл в продажах *(наблюдения были замечены на диаграммах в дашборде)*, решили сравнить кол-во продаж упаковок чая (`Sales in packages`). Из-за запятой во `float` данных Excel получили строковые представления, но, т.к. нас интересует только одна колонка, переведем ее в нужный тип данных"
   ]
  },
  {
   "cell_type": "code",
   "execution_count": 5,
   "id": "354ce035",
   "metadata": {},
   "outputs": [],
   "source": [
    "df['Sales in packages'] = df['Sales in packages'].apply(lambda x: float(x.replace(',', '.')))"
   ]
  },
  {
   "cell_type": "code",
   "execution_count": 6,
   "id": "2cd2e330",
   "metadata": {},
   "outputs": [],
   "source": [
    "# две подвыборки\n",
    "pyaterochka = df[df['Seller'] == 'п']['Sales in packages']\n",
    "vkus = df[df['Seller'] == 'в']['Sales in packages']"
   ]
  },
  {
   "cell_type": "markdown",
   "id": "5779fbf7",
   "metadata": {},
   "source": [
    "Количество продаж упаковок чая в Пятерочке суммарно больше Вкусвилл почти в 3 раза, но проверим этот факт статистически с помощью сравнения распределений упаковок для двух магазинов и двух независимых подходов анализа\n",
    "\n",
    "- **H0 (нулевая гипотеза)**: среднее значение распределения продаж в упаковках чая в Пятерочке одинаково со средним значением такого же распределения во Вкусвилл\n",
    "- **H1 (альтернативная гипотеза)**: среднее значение двух распределений магазинов продаж в упаковках чая различны"
   ]
  },
  {
   "cell_type": "code",
   "execution_count": 7,
   "id": "17d1315c",
   "metadata": {},
   "outputs": [
    {
     "data": {
      "image/png": "[encoded data removed]",
      "text/plain": [
       "<Figure size 640x480 with 1 Axes>"
      ]
     },
     "metadata": {},
     "output_type": "display_data"
    }
   ],
   "source": [
    "# диаграмма распределений нормализована, т.к. разные масштабы + есть небольшие выбросы\n",
    "sns.histplot(data=df, x='Sales in packages', hue='Seller', kde=True, log_scale=True)\n",
    "plt.title('Продажи в упаковках (логарифмированная шкала)')\n",
    "plt.xlabel('Кол-во упаковок')\n",
    "plt.show()"
   ]
  },
  {
   "cell_type": "code",
   "execution_count": 8,
   "id": "5b286912",
   "metadata": {},
   "outputs": [
    {
     "data": {
      "text/plain": [
       "(8.795538838041123, 0.003264746145580327)"
      ]
     },
     "execution_count": 8,
     "metadata": {},
     "output_type": "execute_result"
    }
   ],
   "source": [
    "# однофакторный дисперсионный анализ\n",
    "f_statistic, p_value_1 = sp.f_oneway(pyaterochka, vkus)\n",
    "f_statistic, p_value_1"
   ]
  },
  {
   "cell_type": "code",
   "execution_count": 9,
   "id": "47959ef7",
   "metadata": {},
   "outputs": [
    {
     "data": {
      "text/plain": [
       "(2.9657273708217207, 0.003264746145580329)"
      ]
     },
     "execution_count": 9,
     "metadata": {},
     "output_type": "execute_result"
    }
   ],
   "source": [
    "# t-тестирование\n",
    "t_statistic_2, p_value_2 = sp.ttest_ind(pyaterochka, vkus)\n",
    "t_statistic_2, p_value_2"
   ]
  },
  {
   "cell_type": "code",
   "execution_count": 10,
   "id": "c1b85197",
   "metadata": {},
   "outputs": [
    {
     "data": {
      "text/html": [
       "<div>\n",
       "<style scoped>\n",
       "    .dataframe tbody tr th:only-of-type {\n",
       "        vertical-align: middle;\n",
       "    }\n",
       "\n",
       "    .dataframe tbody tr th {\n",
       "        vertical-align: top;\n",
       "    }\n",
       "\n",
       "    .dataframe thead th {\n",
       "        text-align: right;\n",
       "    }\n",
       "</style>\n",
       "<table border=\"1\" class=\"dataframe\">\n",
       "  <thead>\n",
       "    <tr style=\"text-align: right;\">\n",
       "      <th></th>\n",
       "      <th>p-value</th>\n",
       "      <th>statistic</th>\n",
       "    </tr>\n",
       "  </thead>\n",
       "  <tbody>\n",
       "    <tr>\n",
       "      <th>f-value</th>\n",
       "      <td>0.003265</td>\n",
       "      <td>8.795539</td>\n",
       "    </tr>\n",
       "    <tr>\n",
       "      <th>T-test</th>\n",
       "      <td>0.003265</td>\n",
       "      <td>2.965727</td>\n",
       "    </tr>\n",
       "  </tbody>\n",
       "</table>\n",
       "</div>"
      ],
      "text/plain": [
       "          p-value  statistic\n",
       "f-value  0.003265   8.795539\n",
       "T-test   0.003265   2.965727"
      ]
     },
     "execution_count": 10,
     "metadata": {},
     "output_type": "execute_result"
    }
   ],
   "source": [
    "result2 = pd.DataFrame([[p_value_1, f_statistic], [p_value_2, t_statistic_2]], \n",
    "                        columns=['p-value', 'statistic'], index=['f-value', 'T-test'])\n",
    "result2"
   ]
  },
  {
   "cell_type": "markdown",
   "id": "97dfb5f4",
   "metadata": {},
   "source": [
    "P-value в обоих случаях <0.05 => отвергаем нулевую гипотезу и принимаем альтернативную гипотезу, т.е. есть статистическая значимость в различии между средними распределений магазинов продаж в упаковках чая. Так как изначально на интерактивном дашборде это число было больше у Пятерочки => у этого магазина в действительности больше продаж в упаковках чая\n"
   ]
  },
  {
   "cell_type": "code",
   "execution_count": null,
   "id": "e39e223d",
   "metadata": {},
   "outputs": [],
   "source": []
  }
 ],
 "metadata": {
  "kernelspec": {
   "display_name": "Python 3 (ipykernel)",
   "language": "python",
   "name": "python3"
  },
  "language_info": {
   "codemirror_mode": {
    "name": "ipython",
    "version": 3
   },
   "file_extension": ".py",
   "mimetype": "text/x-python",
   "name": "python",
   "nbconvert_exporter": "python",
   "pygments_lexer": "ipython3",
   "version": "3.9.13"
  }
 },
 "nbformat": 4,
 "nbformat_minor": 5
}
